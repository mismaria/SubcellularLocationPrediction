{
 "cells": [
  {
   "cell_type": "markdown",
   "metadata": {},
   "source": [
    "# Preprocessing"
   ]
  },
  {
   "cell_type": "markdown",
   "metadata": {},
   "source": [
    "### Import necessary modules"
   ]
  },
  {
   "cell_type": "code",
   "execution_count": 1,
   "metadata": {},
   "outputs": [],
   "source": [
    "from Bio import SeqIO\n",
    "from Bio.SeqFeature import SeqFeature, FeatureLocation\n",
    "from Bio.SeqUtils.ProtParam import ProteinAnalysis\n",
    "from Bio.SeqUtils import IsoelectricPoint\n",
    "import numpy as np\n",
    "import matplotlib.pyplot as plt\n",
    "import pandas as pd\n",
    "from sklearn import svm\n",
    "from sklearn.preprocessing import OneHotEncoder\n",
    "from sklearn.multiclass import OneVsRestClassifier\n",
    "from sklearn.model_selection import KFold"
   ]
  },
  {
   "cell_type": "markdown",
   "metadata": {},
   "source": [
    "### Read training data"
   ]
  },
  {
   "cell_type": "code",
   "execution_count": 2,
   "metadata": {},
   "outputs": [
    {
     "name": "stdout",
     "output_type": "stream",
     "text": [
      "cyto 3004\n",
      "mito 1299\n",
      "nucleus 3314\n",
      "secreted 1605\n"
     ]
    }
   ],
   "source": [
    "dataCyto=[]\n",
    "for record in SeqIO.parse(\"cyto.fasta.txt\", \"fasta\"):\n",
    "    dataCyto.append(record)\n",
    "    \n",
    "dataMito=[]\n",
    "for record in SeqIO.parse(\"mito.fasta.txt\", \"fasta\"):\n",
    "    dataMito.append(record)\n",
    "    \n",
    "dataNucleus=[]\n",
    "for record in SeqIO.parse(\"nucleus.fasta.txt\", \"fasta\"):\n",
    "    dataNucleus.append(record)\n",
    "    \n",
    "dataSecreted=[]\n",
    "for record in SeqIO.parse(\"secreted.fasta.txt\", \"fasta\"):\n",
    "    dataSecreted.append(record)\n",
    "\n",
    "print('cyto', len(dataCyto))\n",
    "print('mito', len(dataMito))\n",
    "print('nucleus', len(dataNucleus))\n",
    "print('secreted', len(dataSecreted))"
   ]
  },
  {
   "cell_type": "code",
   "execution_count": 3,
   "metadata": {},
   "outputs": [
    {
     "name": "stdout",
     "output_type": "stream",
     "text": [
      "ID: sp|Q4JIM5|ABL2_MOUSE\n",
      "Name: sp|Q4JIM5|ABL2_MOUSE\n",
      "Description: sp|Q4JIM5|ABL2_MOUSE Abelson tyrosine-protein kinase 2 OS=Mus musculus GN=Abl2 PE=1 SV=1\n",
      "Number of features: 0\n",
      "Seq('MGQQVGRVGEAPGLQQPQPRGIRGSSAARPSGRRRDPAGRTADAGFNVFTQHDH...VQR', SingleLetterAlphabet())\n"
     ]
    }
   ],
   "source": [
    "#example of data\n",
    "print(dataCyto[0])"
   ]
  },
  {
   "cell_type": "markdown",
   "metadata": {},
   "source": [
    "### Analyse the data to get features"
   ]
  },
  {
   "cell_type": "code",
   "execution_count": 4,
   "metadata": {},
   "outputs": [
    {
     "name": "stdout",
     "output_type": "stream",
     "text": [
      "9222\n"
     ]
    }
   ],
   "source": [
    "analysed=[]\n",
    "for i in range(len(dataCyto)):\n",
    "    analysed_seq=ProteinAnalysis(str(dataCyto[i].seq))\n",
    "    analysed.append(analysed_seq)\n",
    "    \n",
    "for i in range(len(dataMito)):\n",
    "    analysed_seq=ProteinAnalysis(str(dataMito[i].seq))\n",
    "    analysed.append(analysed_seq)\n",
    "    \n",
    "for i in range(len(dataNucleus)):\n",
    "    analysed_seq=ProteinAnalysis(str(dataNucleus[i].seq))\n",
    "    analysed.append(analysed_seq)\n",
    "    \n",
    "for i in range(len(dataSecreted)):\n",
    "    analysed_seq=ProteinAnalysis(str(dataSecreted[i].seq))\n",
    "    analysed.append(analysed_seq)\n",
    "print(len(analysed))   "
   ]
  },
  {
   "cell_type": "code",
   "execution_count": 5,
   "metadata": {},
   "outputs": [
    {
     "name": "stdout",
     "output_type": "stream",
     "text": [
      "length: 1182\n",
      "aminoacids {'A': 97, 'C': 17, 'D': 51, 'E': 81, 'F': 35, 'G': 96, 'H': 26, 'I': 30, 'K': 72, 'L': 99, 'M': 22, 'N': 40, 'P': 96, 'Q': 44, 'R': 63, 'S': 118, 'T': 73, 'V': 77, 'W': 13, 'Y': 32}\n",
      "aminoacid percent None\n",
      "molecular weight 128194.98120000077\n"
     ]
    }
   ],
   "source": [
    "#example of analysed data\n",
    "print('length:', analysed[0].length)\n",
    "print('aminoacids',analysed[0].count_amino_acids())\n",
    "print('aminoacid percent',analysed[0].amino_acids_percent)\n",
    "print('molecular weight',analysed[0].molecular_weight())"
   ]
  },
  {
   "cell_type": "markdown",
   "metadata": {},
   "source": [
    "### Features"
   ]
  },
  {
   "cell_type": "code",
   "execution_count": 8,
   "metadata": {},
   "outputs": [],
   "source": [
    "noOfExamples=len(dataCyto)+len(dataMito)+len(dataNucleus)+len(dataSecreted)\n",
    "composition=np.zeros((noOfExamples, 20))\n",
    "for i in range(len(analysed)):\n",
    "    dict=analysed[i].get_amino_acids_percent()\n",
    "    for pos,aa in enumerate(dict.values()):\n",
    "        composition[i,pos]=aa"
   ]
  },
  {
   "cell_type": "code",
   "execution_count": 9,
   "metadata": {},
   "outputs": [],
   "source": [
    "length=np.zeros((noOfExamples, 1))\n",
    "for i in range(len(analysed)):\n",
    "    length[i,0]=analysed[i].length\n",
    "\n",
    "iep=np.zeros((len(analysed), 1))\n",
    "for i in range(len(analysed)):\n",
    "    iep[i,0]=analysed[i].isoelectric_point()\n",
    "\n",
    "noOfFeatures=22\n",
    "features=np.zeros((noOfExamples,noOfFeatures))\n",
    "features=np.append(np.append(composition, length,axis=1),iep, axis=1)\n",
    "\n"
   ]
  },
  {
   "cell_type": "markdown",
   "metadata": {},
   "source": [
    "### Labels"
   ]
  },
  {
   "cell_type": "code",
   "execution_count": 10,
   "metadata": {},
   "outputs": [],
   "source": [
    "#labels for each dataset\n",
    "labels=np.zeros(noOfExamples)\n",
    "\n",
    "labels[0:len(dataCyto)]=1\n",
    "labels[len(dataCyto):len(dataCyto)+len(dataMito)]=2\n",
    "labels[len(dataCyto)+len(dataMito):len(dataCyto)+len(dataMito)+len(dataNucleus)]=3\n",
    "labels[len(dataCyto)+len(dataMito)+len(dataNucleus):]=4"
   ]
  },
  {
   "cell_type": "code",
   "execution_count": 11,
   "metadata": {},
   "outputs": [
    {
     "data": {
      "text/plain": [
       "array([1., 1., 1., ..., 4., 4., 4.])"
      ]
     },
     "execution_count": 11,
     "metadata": {},
     "output_type": "execute_result"
    }
   ],
   "source": [
    "enc=OneHotEncoder(labels)\n",
    "enc.categories"
   ]
  },
  {
   "cell_type": "markdown",
   "metadata": {},
   "source": [
    "# Model exploration"
   ]
  },
  {
   "cell_type": "markdown",
   "metadata": {},
   "source": [
    "### Comparing results for different models and for different datasets"
   ]
  },
  {
   "cell_type": "code",
   "execution_count": 12,
   "metadata": {},
   "outputs": [
    {
     "name": "stdout",
     "output_type": "stream",
     "text": [
      "NuSVC trained on composition, score: 0.7006072435480373\n"
     ]
    }
   ],
   "source": [
    "model2=svm.NuSVC(nu=0.5, decision_function_shape='ovo', probability=True)\n",
    "model2.fit(composition, enc.categories)\n",
    "print('NuSVC trained on composition, score:', model2.score(composition, enc.categories))"
   ]
  },
  {
   "cell_type": "code",
   "execution_count": 14,
   "metadata": {},
   "outputs": [],
   "source": [
    "#grid search for best parameter:\n",
    "indexes=np.arange(0.1,0.52,0.02)\n",
    "exploreScores=np.zeros(len(indexes))\n",
    "for i,nu in enumerate(indexes):\n",
    "    modelx=svm.NuSVC(nu=nu, decision_function_shape='ovo', probability=True)\n",
    "    modelx.fit(composition, enc.categories)\n",
    "    exploreScores[i]=modelx.score(composition, enc.categories)\n"
   ]
  },
  {
   "cell_type": "code",
   "execution_count": 18,
   "metadata": {},
   "outputs": [
    {
     "name": "stdout",
     "output_type": "stream",
     "text": [
      "[0.87063544 0.88928649 0.88646714 0.88874431 0.89058773 0.88147907\n",
      " 0.88147907 0.87020169 0.86109304 0.84829755 0.83506831 0.81967035\n",
      " 0.80676643 0.79191065 0.77792236 0.76718716 0.75287356 0.74213836\n",
      " 0.7279332  0.71437866 0.70060724]\n",
      "bestScore: 0.8905877250054218\n",
      "4\n",
      "best parameter: 0.18000000000000002\n"
     ]
    }
   ],
   "source": [
    "print(exploreScores)\n",
    "print('bestScore:',np.max(exploreScores))\n",
    "print(np.argmax(exploreScores))\n",
    "best=indexes[int(np.argmax(exploreScores))]\n",
    "print('best parameter:',best)"
   ]
  },
  {
   "cell_type": "code",
   "execution_count": 19,
   "metadata": {},
   "outputs": [
    {
     "name": "stdout",
     "output_type": "stream",
     "text": [
      "NuSVC trained on composition with best parameter, score: 0.8905877250054218\n"
     ]
    }
   ],
   "source": [
    "#best nu=0.18\n",
    "model=svm.NuSVC(nu=np.round(best,2), decision_function_shape='ovo', probability=True)\n",
    "model.fit(composition, enc.categories)\n",
    "print('NuSVC trained on composition with best parameter, score:', model.score(composition, enc.categories))"
   ]
  },
  {
   "cell_type": "code",
   "execution_count": 21,
   "metadata": {},
   "outputs": [
    {
     "name": "stdout",
     "output_type": "stream",
     "text": [
      "SVC trained on composition, score: 0.6477987421383647\n"
     ]
    }
   ],
   "source": [
    "model3=svm.SVC(decision_function_shape='ovo', probability=True)\n",
    "model3.fit(composition, enc.categories)\n",
    "print('SVC trained on composition, score:', model3.score(composition, enc.categories))"
   ]
  },
  {
   "cell_type": "code",
   "execution_count": 23,
   "metadata": {},
   "outputs": [
    {
     "name": "stdout",
     "output_type": "stream",
     "text": [
      "SVC trained on sequence length, score: 0.43103448275862066\n"
     ]
    }
   ],
   "source": [
    "model8=svm.SVC(decision_function_shape='ovo', probability=True)\n",
    "model8.fit(length, enc.categories)\n",
    "print('SVC trained on sequence length, score:', model8.score(length, enc.categories))"
   ]
  },
  {
   "cell_type": "code",
   "execution_count": 24,
   "metadata": {},
   "outputs": [
    {
     "name": "stdout",
     "output_type": "stream",
     "text": [
      "SVC trained on isoelectric point, score: 0.405985686402082\n"
     ]
    }
   ],
   "source": [
    "model9=svm.SVC(decision_function_shape='ovo', probability=True)\n",
    "model9.fit(iep, enc.categories)\n",
    "print('SVC trained on isoelectric point, score:', model9.score(iep, enc.categories))"
   ]
  },
  {
   "cell_type": "code",
   "execution_count": 25,
   "metadata": {},
   "outputs": [
    {
     "name": "stdout",
     "output_type": "stream",
     "text": [
      "SVC trained on all features, score: 0.4313597918022121\n"
     ]
    }
   ],
   "source": [
    "model4=svm.SVC(decision_function_shape='ovo', probability=True)\n",
    "model4.fit(features, enc.categories)\n",
    "print('SVC trained on all features, score:', model4.score(features, enc.categories))"
   ]
  },
  {
   "cell_type": "code",
   "execution_count": 26,
   "metadata": {},
   "outputs": [
    {
     "name": "stdout",
     "output_type": "stream",
     "text": [
      "NuSVC trained on sequence length, score: 0.2852960312296682\n"
     ]
    }
   ],
   "source": [
    "model10=svm.NuSVC(nu=0.5, decision_function_shape='ovo', probability=True)\n",
    "model10.fit(length, enc.categories)\n",
    "print('NuSVC trained on sequence length, score:', model10.score(length, enc.categories))"
   ]
  },
  {
   "cell_type": "code",
   "execution_count": 27,
   "metadata": {},
   "outputs": [
    {
     "name": "stdout",
     "output_type": "stream",
     "text": [
      "NuSVC trained on isoelectric point, score: 0.27521145087833443\n"
     ]
    }
   ],
   "source": [
    "model11=svm.NuSVC(nu=0.5, decision_function_shape='ovo', probability=True)\n",
    "model11.fit(iep, enc.categories)\n",
    "print('NuSVC trained on isoelectric point, score:', model11.score(iep, enc.categories))"
   ]
  },
  {
   "cell_type": "code",
   "execution_count": 28,
   "metadata": {},
   "outputs": [
    {
     "name": "stdout",
     "output_type": "stream",
     "text": [
      "NuSVC trained on features, score: 0.4097809585773151\n"
     ]
    }
   ],
   "source": [
    "model5=svm.NuSVC(nu=0.5, decision_function_shape='ovo', probability=True)\n",
    "model5.fit(features, enc.categories)\n",
    "print('NuSVC trained on features, score:', model5.score(features, enc.categories))"
   ]
  },
  {
   "cell_type": "code",
   "execution_count": 29,
   "metadata": {},
   "outputs": [
    {
     "name": "stdout",
     "output_type": "stream",
     "text": [
      "OneVsRestClassifier trained on all model1, score: 0.900455432661028\n"
     ]
    }
   ],
   "source": [
    "#one classifier per class\n",
    "model6 = OneVsRestClassifier(model).fit(composition, enc.categories)\n",
    "print('OneVsRestClassifier trained on all model1, score:', model6.score(composition, enc.categories))"
   ]
  },
  {
   "cell_type": "code",
   "execution_count": 30,
   "metadata": {},
   "outputs": [
    {
     "name": "stdout",
     "output_type": "stream",
     "text": [
      "model parameters:\n"
     ]
    },
    {
     "data": {
      "text/plain": [
       "{'break_ties': False,\n",
       " 'cache_size': 200,\n",
       " 'class_weight': None,\n",
       " 'coef0': 0.0,\n",
       " 'decision_function_shape': 'ovo',\n",
       " 'degree': 3,\n",
       " 'gamma': 'scale',\n",
       " 'kernel': 'rbf',\n",
       " 'max_iter': -1,\n",
       " 'nu': 0.18,\n",
       " 'probability': True,\n",
       " 'random_state': None,\n",
       " 'shrinking': True,\n",
       " 'tol': 0.001,\n",
       " 'verbose': False}"
      ]
     },
     "execution_count": 30,
     "metadata": {},
     "output_type": "execute_result"
    }
   ],
   "source": [
    "#best models: model and model6\n",
    "print('model parameters:',)\n",
    "model.get_params()"
   ]
  },
  {
   "cell_type": "code",
   "execution_count": 31,
   "metadata": {},
   "outputs": [
    {
     "name": "stdout",
     "output_type": "stream",
     "text": [
      "model6 parameters:\n"
     ]
    },
    {
     "data": {
      "text/plain": [
       "{'estimator__break_ties': False,\n",
       " 'estimator__cache_size': 200,\n",
       " 'estimator__class_weight': None,\n",
       " 'estimator__coef0': 0.0,\n",
       " 'estimator__decision_function_shape': 'ovo',\n",
       " 'estimator__degree': 3,\n",
       " 'estimator__gamma': 'scale',\n",
       " 'estimator__kernel': 'rbf',\n",
       " 'estimator__max_iter': -1,\n",
       " 'estimator__nu': 0.18,\n",
       " 'estimator__probability': True,\n",
       " 'estimator__random_state': None,\n",
       " 'estimator__shrinking': True,\n",
       " 'estimator__tol': 0.001,\n",
       " 'estimator__verbose': False,\n",
       " 'estimator': NuSVC(break_ties=False, cache_size=200, class_weight=None, coef0=0.0,\n",
       "       decision_function_shape='ovo', degree=3, gamma='scale', kernel='rbf',\n",
       "       max_iter=-1, nu=0.18, probability=True, random_state=None, shrinking=True,\n",
       "       tol=0.001, verbose=False),\n",
       " 'n_jobs': None}"
      ]
     },
     "execution_count": 31,
     "metadata": {},
     "output_type": "execute_result"
    }
   ],
   "source": [
    "print('model6 parameters:',)\n",
    "model6.get_params()"
   ]
  },
  {
   "cell_type": "markdown",
   "metadata": {},
   "source": [
    "### Cross validation"
   ]
  },
  {
   "cell_type": "code",
   "execution_count": 32,
   "metadata": {},
   "outputs": [
    {
     "name": "stdout",
     "output_type": "stream",
     "text": [
      "0.832542853890028\n",
      "0.8541007112512605\n"
     ]
    }
   ],
   "source": [
    "predsTrain1=model.predict(composition)\n",
    "corrTrain1=np.corrcoef(predsTrain1, enc.categories)\n",
    "print(corrTrain1[1,0])\n",
    "\n",
    "predsTrain6=model6.predict(composition)\n",
    "corrTrain6=np.corrcoef(predsTrain6, enc.categories)\n",
    "print(corrTrain6[1,0])\n"
   ]
  },
  {
   "cell_type": "code",
   "execution_count": 33,
   "metadata": {},
   "outputs": [],
   "source": [
    "def KF_svc(X,y,cost=1.0,gamma='scale',k=10):\n",
    "    kf = KFold(n_splits=k, shuffle=True)\n",
    "    model_scores=np.zeros(k)\n",
    "    corr=np.zeros(k)\n",
    "    #iterator\n",
    "    it=iter(np.arange(k))\n",
    "    \n",
    "    model=svm.SVC(C=cost, kernel='rbf', gamma=gamma, probability=True)\n",
    "    for train_index, test_index in kf.split(X, y):\n",
    "        #split the dataset into two parts: (k-1)/k*n and (1/k)*n\n",
    "        i=next(it)\n",
    "        print('iteration', i)\n",
    "        \n",
    "        #split data\n",
    "        X_train, X_test=X[train_index], X[test_index]\n",
    "        y_train, y_test=y[train_index], y[test_index]\n",
    "        #fit model\n",
    "        model.fit(X_train, y_train)\n",
    "        model_scores[i]=model.score(X_test,y_test)\n",
    "        pred=model.predict(X_test)\n",
    "        corr[i]=np.corrcoef(pred, y_test)[1,0]\n",
    "        \n",
    "    return model, model_scores, corr"
   ]
  },
  {
   "cell_type": "code",
   "execution_count": 34,
   "metadata": {},
   "outputs": [
    {
     "name": "stdout",
     "output_type": "stream",
     "text": [
      "iteration 0\n",
      "iteration 1\n",
      "iteration 2\n",
      "iteration 3\n",
      "iteration 4\n",
      "iteration 5\n",
      "iteration 6\n",
      "iteration 7\n",
      "iteration 8\n",
      "iteration 9\n"
     ]
    }
   ],
   "source": [
    "model7, score7, corr7=KF_svc(composition, enc.categories);"
   ]
  },
  {
   "cell_type": "code",
   "execution_count": 63,
   "metadata": {},
   "outputs": [
    {
     "name": "stdout",
     "output_type": "stream",
     "text": [
      "0 score: 0.598 correlation: 0.405\n",
      "1 score: 0.616 correlation: 0.441\n",
      "2 score: 0.645 correlation: 0.478\n",
      "3 score: 0.612 correlation: 0.429\n",
      "4 score: 0.603 correlation: 0.445\n",
      "5 score: 0.613 correlation: 0.454\n",
      "6 score: 0.614 correlation: 0.463\n",
      "7 score: 0.6 correlation: 0.404\n",
      "8 score: 0.599 correlation: 0.425\n",
      "9 score: 0.604 correlation: 0.477\n",
      "average score: 0.6103888809244588\n"
     ]
    }
   ],
   "source": [
    "for i in range(10):\n",
    "    print(i, 'score:', np.round(score7[i],3), 'correlation:', np.round(corr7[i],3))\n",
    "print('average score:', np.mean(score7))"
   ]
  },
  {
   "cell_type": "code",
   "execution_count": 36,
   "metadata": {},
   "outputs": [
    {
     "data": {
      "image/png": "[encoded data removed]",
      "text/plain": [
       "<Figure size 432x288 with 1 Axes>"
      ]
     },
     "metadata": {
      "needs_background": "light"
     },
     "output_type": "display_data"
    },
    {
     "data": {
      "text/plain": [
       "<Figure size 2160x720 with 0 Axes>"
      ]
     },
     "metadata": {},
     "output_type": "display_data"
    },
    {
     "data": {
      "image/png": "[encoded data removed]",
      "text/plain": [
       "<Figure size 432x288 with 1 Axes>"
      ]
     },
     "metadata": {
      "needs_background": "light"
     },
     "output_type": "display_data"
    },
    {
     "data": {
      "text/plain": [
       "<Figure size 2160x720 with 0 Axes>"
      ]
     },
     "metadata": {},
     "output_type": "display_data"
    },
    {
     "data": {
      "image/png": "[encoded data removed]",
      "text/plain": [
       "<Figure size 432x288 with 1 Axes>"
      ]
     },
     "metadata": {
      "needs_background": "light"
     },
     "output_type": "display_data"
    },
    {
     "data": {
      "text/plain": [
       "<Figure size 2160x720 with 0 Axes>"
      ]
     },
     "metadata": {},
     "output_type": "display_data"
    },
    {
     "data": {
      "image/png": "[encoded data removed]",
      "text/plain": [
       "<Figure size 432x288 with 1 Axes>"
      ]
     },
     "metadata": {
      "needs_background": "light"
     },
     "output_type": "display_data"
    },
    {
     "data": {
      "text/plain": [
       "<Figure size 2160x720 with 0 Axes>"
      ]
     },
     "metadata": {},
     "output_type": "display_data"
    }
   ],
   "source": [
    "predictions=model6.predict(composition)\n",
    "x=np.arange(len(dataCyto))\n",
    "y1=predictions[0:len(dataCyto)]\n",
    "y2=enc.categories[0:len(dataCyto)]\n",
    "x1=x\n",
    "x2=x\n",
    "plt.plot(x1, y1, 'ro',label = \"predictions\")\n",
    "plt.plot(x2, y2, label = \"labels\")\n",
    "plt.xlabel('protein')\n",
    "plt.ylabel('categories')\n",
    "plt.title('compare predictions with labels\\nCategory 1-Cytosolic')\n",
    "plt.legend()\n",
    "plt.figure(figsize=(30,10))\n",
    "plt.show()\n",
    "\n",
    "x=np.arange(len(dataCyto),len(dataCyto)+len(dataMito))\n",
    "y1=predictions[len(dataCyto):len(dataCyto)+len(dataMito)]\n",
    "y2=enc.categories[len(dataCyto):len(dataCyto)+len(dataMito)]\n",
    "x1=x\n",
    "x2=x\n",
    "plt.plot(x1, y1, 'ro',label = \"predictions\")\n",
    "plt.plot(x2, y2, label = \"labels\")\n",
    "plt.xlabel('protein')\n",
    "plt.ylabel('categories')\n",
    "plt.title('compare predictions with labels\\nCategory- Mitochondrial')\n",
    "plt.legend()\n",
    "plt.figure(figsize=(30,10))\n",
    "plt.show()\n",
    "\n",
    "x=np.arange(len(dataCyto)+len(dataMito),len(dataCyto)+len(dataMito)+len(dataNucleus))\n",
    "y1=predictions[len(dataCyto)+len(dataMito):len(dataCyto)+len(dataMito)+len(dataNucleus)]\n",
    "y2=enc.categories[len(dataCyto)+len(dataMito):len(dataCyto)+len(dataMito)+len(dataNucleus)]\n",
    "x1=x\n",
    "x2=x\n",
    "plt.plot(x1, y1, 'ro',label = \"predictions\")\n",
    "plt.plot(x2, y2, label = \"labels\")\n",
    "plt.xlabel('protein')\n",
    "plt.ylabel('categories')\n",
    "plt.title('compare predictions with labels\\nCategory 3-Nuclear')\n",
    "plt.legend()\n",
    "plt.figure(figsize=(30,10))\n",
    "plt.show()\n",
    "\n",
    "x=np.arange(len(dataCyto)+len(dataMito)+len(dataNucleus), 9222)\n",
    "y1=predictions[len(dataCyto)+len(dataMito)+len(dataNucleus):]\n",
    "y2=enc.categories[len(dataCyto)+len(dataMito)+len(dataNucleus):]\n",
    "x1=x\n",
    "x2=x\n",
    "plt.plot(x1, y1, 'ro',label = \"predictions\")\n",
    "plt.plot(x2, y2, label = \"labels\")\n",
    "plt.xlabel('protein')\n",
    "plt.ylabel('categories')\n",
    "plt.title('compare predictions with labels\\nCategory 4-Secreted')\n",
    "plt.legend()\n",
    "plt.figure(figsize=(30,10))\n",
    "plt.show()\n",
    "\n"
   ]
  },
  {
   "cell_type": "markdown",
   "metadata": {},
   "source": [
    "# Testing"
   ]
  },
  {
   "cell_type": "markdown",
   "metadata": {},
   "source": [
    "## Make some predictions"
   ]
  },
  {
   "cell_type": "code",
   "execution_count": 37,
   "metadata": {},
   "outputs": [
    {
     "name": "stdout",
     "output_type": "stream",
     "text": [
      "model 1:\n",
      "prediction: [1.]\n",
      "probClass1, probClass2, probClass3, probClass 4\n",
      "[[0.47573313 0.06059086 0.43156207 0.03211394]]\n",
      "\n",
      "model 6:\n",
      "prediction: [1.]\n",
      "probClass1, probClass2, probClass3, probClass 4\n",
      "[[0.47856621 0.06723976 0.42910821 0.02508583]]\n"
     ]
    }
   ],
   "source": [
    "print('model 1:')\n",
    "print('prediction:', model.predict([composition[0]]))\n",
    "print('probClass1, probClass2, probClass3, probClass 4')\n",
    "print(model.predict_proba([composition[0]]))\n",
    "print('\\nmodel 6:')\n",
    "print('prediction:', model6.predict([composition[0]]))\n",
    "print('probClass1, probClass2, probClass3, probClass 4')\n",
    "print(model6.predict_proba([composition[0]]))"
   ]
  },
  {
   "cell_type": "markdown",
   "metadata": {},
   "source": [
    "## Analyse test data"
   ]
  },
  {
   "cell_type": "code",
   "execution_count": 38,
   "metadata": {},
   "outputs": [
    {
     "name": "stdout",
     "output_type": "stream",
     "text": [
      "blind: 20\n"
     ]
    }
   ],
   "source": [
    "dataBlind=[]\n",
    "for record in SeqIO.parse(\"blind.fasta.txt\", \"fasta\"):\n",
    "    dataBlind.append(record)\n",
    "print('blind:', len(dataBlind))"
   ]
  },
  {
   "cell_type": "code",
   "execution_count": 39,
   "metadata": {},
   "outputs": [],
   "source": [
    "blind=[]\n",
    "for i in range(len(dataBlind)):\n",
    "    analysed_seq=ProteinAnalysis(str(dataBlind[i].seq))\n",
    "    blind.append(analysed_seq)"
   ]
  },
  {
   "cell_type": "code",
   "execution_count": 40,
   "metadata": {},
   "outputs": [],
   "source": [
    "compBlind=np.zeros((len(dataBlind), 20))\n",
    "for i in range(len(dataBlind)):\n",
    "    dict=blind[i].get_amino_acids_percent()\n",
    "    for pos,aa in enumerate(dict.values()):\n",
    "        compBlind[i,pos]=aa"
   ]
  },
  {
   "cell_type": "markdown",
   "metadata": {},
   "source": [
    "## Calculcate predictions for NuSVC model"
   ]
  },
  {
   "cell_type": "code",
   "execution_count": 41,
   "metadata": {},
   "outputs": [],
   "source": [
    "\n",
    "preds=np.zeros(len(dataBlind))\n",
    "for i in range(len(dataBlind)):\n",
    "    preds[i]=model.predict([compBlind[i]])\n",
    "    \n",
    "probs=np.zeros((len(dataBlind), 4))\n",
    "for i in range(len(dataBlind)):\n",
    "    probs[i]=model.predict_proba([compBlind[i]])\n",
    "    \n",
    "predProbs=np.array(np.argmax(probs, axis=1)+1)"
   ]
  },
  {
   "cell_type": "code",
   "execution_count": 42,
   "metadata": {},
   "outputs": [
    {
     "data": {
      "text/plain": [
       "array([3, 4, 4, 1, 4, 3, 1, 1, 1, 2, 2, 3, 4, 4, 3, 3, 4, 3, 2, 1])"
      ]
     },
     "execution_count": 42,
     "metadata": {},
     "output_type": "execute_result"
    }
   ],
   "source": [
    "predProbs"
   ]
  },
  {
   "cell_type": "code",
   "execution_count": 43,
   "metadata": {},
   "outputs": [
    {
     "name": "stdout",
     "output_type": "stream",
     "text": [
      "Predictions for SVC model\n",
      "index: 0 prediction: 3.0\n",
      "index: 1 prediction: 4.0\n",
      "index: 2 prediction: 4.0\n",
      "index: 3 prediction: 1.0\n",
      "index: 4 prediction: 4.0\n",
      "index: 5 predicts: 1.0 from probability: 3 0.4786159426388875\n",
      "index: 6 predicts: 2.0 from probability: 1 0.3670000900462888\n",
      "index: 7 prediction: 1.0\n",
      "index: 8 prediction: 1.0\n",
      "index: 9 prediction: 2.0\n",
      "index: 10 prediction: 2.0\n",
      "index: 11 predicts: 1.0 from probability: 3 0.41941978019692416\n",
      "index: 12 prediction: 4.0\n",
      "index: 13 predicts: 1.0 from probability: 4 0.35165720216602425\n",
      "index: 14 prediction: 3.0\n",
      "index: 15 prediction: 3.0\n",
      "index: 16 prediction: 4.0\n",
      "index: 17 prediction: 3.0\n",
      "index: 18 prediction: 2.0\n",
      "index: 19 prediction: 1.0\n"
     ]
    }
   ],
   "source": [
    "print(\"Predictions for SVC model\")\n",
    "for i in range(len(dataBlind)):\n",
    "    if preds[i]==predProbs[i]:\n",
    "        print('index:', i, 'prediction:', preds[i])\n",
    "    else:\n",
    "        print('index:',i, 'predicts:', preds[i], 'from probability:', predProbs[i], probs[i, int(predProbs[i]-1)])"
   ]
  },
  {
   "cell_type": "code",
   "execution_count": 44,
   "metadata": {},
   "outputs": [
    {
     "name": "stdout",
     "output_type": "stream",
     "text": [
      "SEQ677 Nuclear, Confidence 35.0 %\n",
      "SEQ231 Secreted, Confidence 73.0 %\n",
      "SEQ871 Secreted, Confidence 59.0 %\n",
      "SEQ388 Cytosolic, Confidence 32.0 %\n",
      "SEQ122 Secreted, Confidence 76.0 %\n",
      "SEQ758 Cytosolic, Confidence 48.0 %\n",
      "SEQ333 Mitochondrial, Confidence 37.0 %\n",
      "SEQ937 Cytosolic, Confidence 55.0 %\n",
      "SEQ351 Cytosolic, Confidence 39.0 %\n",
      "SEQ202 Mitochondrial, Confidence 40.0 %\n",
      "SEQ608 Mitochondrial, Confidence 41.0 %\n",
      "SEQ402 Cytosolic, Confidence 42.0 %\n",
      "SEQ433 Secreted, Confidence 99.0 %\n",
      "SEQ821 Cytosolic, Confidence 35.0 %\n",
      "SEQ322 Nuclear, Confidence 61.0 %\n",
      "SEQ982 Nuclear, Confidence 78.0 %\n",
      "SEQ951 Secreted, Confidence 35.0 %\n",
      "SEQ173 Nuclear, Confidence 49.0 %\n",
      "SEQ862 Mitochondrial, Confidence 33.0 %\n",
      "SEQ224 Cytosolic, Confidence 58.0 %\n"
     ]
    }
   ],
   "source": [
    "for i in range(len(dataBlind)):\n",
    "    if preds[i]==1:\n",
    "        print(dataBlind[i].name, 'Cytosolic, Confidence', np.round(np.max(probs[i])*100), '%')\n",
    "    elif preds[i]==2:\n",
    "        print(dataBlind[i].name, 'Mitochondrial, Confidence', np.round(np.max(probs[i])*100), '%')\n",
    "    elif preds[i]==3:\n",
    "        print(dataBlind[i].name, 'Nuclear, Confidence', np.round(np.max(probs[i])*100), '%')\n",
    "    elif preds[i]==4:\n",
    "        print(dataBlind[i].name, 'Secreted, Confidence', np.round(np.max(probs[i])*100), '%')\n",
    "        "
   ]
  },
  {
   "cell_type": "markdown",
   "metadata": {},
   "source": [
    "## Calculcate predictions for combined model"
   ]
  },
  {
   "cell_type": "code",
   "execution_count": 45,
   "metadata": {},
   "outputs": [],
   "source": [
    "preds6=np.zeros(len(dataBlind))\n",
    "for i in range(len(dataBlind)):\n",
    "    preds6[i]=model6.predict([compBlind[i]])\n",
    "    \n",
    "probs6=np.zeros((len(dataBlind), 4))\n",
    "for i in range(len(dataBlind)):\n",
    "    probs6[i]=model6.predict_proba([compBlind[i]])\n",
    "    \n",
    "predProbs6=np.array(np.argmax(probs6, axis=1)+1)"
   ]
  },
  {
   "cell_type": "code",
   "execution_count": 46,
   "metadata": {},
   "outputs": [
    {
     "name": "stdout",
     "output_type": "stream",
     "text": [
      "Predictions for combined model\n",
      "index: 0 prediction: 3.0\n",
      "index: 1 predicts: 1.0 from probability: 4 0.463294258496682\n",
      "index: 2 prediction: 1.0\n",
      "index: 3 prediction: 3.0\n",
      "index: 4 predicts: 3.0 from probability: 4 0.47168230455534177\n",
      "index: 5 prediction: 3.0\n",
      "index: 6 prediction: 2.0\n",
      "index: 7 prediction: 1.0\n",
      "index: 8 prediction: 3.0\n",
      "index: 9 prediction: 2.0\n",
      "index: 10 prediction: 2.0\n",
      "index: 11 prediction: 3.0\n",
      "index: 12 prediction: 4.0\n",
      "index: 13 predicts: 1.0 from probability: 3 0.4019197541223024\n",
      "index: 14 prediction: 3.0\n",
      "index: 15 prediction: 3.0\n",
      "index: 16 prediction: 3.0\n",
      "index: 17 prediction: 3.0\n",
      "index: 18 predicts: 2.0 from probability: 1 0.3242932013762271\n",
      "index: 19 predicts: 4.0 from probability: 1 0.44917907518362143\n"
     ]
    }
   ],
   "source": [
    "print(\"Predictions for combined model\")\n",
    "for i in range(len(dataBlind)):\n",
    "    if preds6[i]==predProbs6[i]:\n",
    "        print('index:', i, 'prediction:', preds6[i])\n",
    "    else:\n",
    "        print('index:',i, 'predicts:', preds6[i], 'from probability:', predProbs6[i], probs6[i,int(predProbs6[i]-1)])\n",
    "        "
   ]
  },
  {
   "cell_type": "code",
   "execution_count": 47,
   "metadata": {},
   "outputs": [
    {
     "name": "stdout",
     "output_type": "stream",
     "text": [
      "SEQ677 Nuclear, Confidence 41.0 %\n",
      "SEQ231 Cytosolic, Confidence 46.0 %\n",
      "SEQ871 Cytosolic, Confidence 61.0 %\n",
      "SEQ388 Nuclear, Confidence 47.0 %\n",
      "SEQ122 Nuclear, Confidence 47.0 %\n",
      "SEQ758 Nuclear, Confidence 49.0 %\n",
      "SEQ333 Mitochondrial, Confidence 37.0 %\n",
      "SEQ937 Cytosolic, Confidence 51.0 %\n",
      "SEQ351 Nuclear, Confidence 39.0 %\n",
      "SEQ202 Mitochondrial, Confidence 42.0 %\n",
      "SEQ608 Mitochondrial, Confidence 34.0 %\n",
      "SEQ402 Nuclear, Confidence 44.0 %\n",
      "SEQ433 Secreted, Confidence 74.0 %\n",
      "SEQ821 Cytosolic, Confidence 40.0 %\n",
      "SEQ322 Nuclear, Confidence 63.0 %\n",
      "SEQ982 Nuclear, Confidence 68.0 %\n",
      "SEQ951 Nuclear, Confidence 37.0 %\n",
      "SEQ173 Nuclear, Confidence 53.0 %\n",
      "SEQ862 Mitochondrial, Confidence 32.0 %\n",
      "SEQ224 Secreted, Confidence 45.0 %\n"
     ]
    }
   ],
   "source": [
    "for i in range(len(dataBlind)):\n",
    "    if preds6[i]==1:\n",
    "        print(dataBlind[i].name, 'Cytosolic, Confidence', np.round(np.max(probs6[i])*100), '%')\n",
    "    elif preds6[i]==2:\n",
    "        print(dataBlind[i].name, 'Mitochondrial, Confidence', np.round(np.max(probs6[i])*100), '%')\n",
    "    elif preds6[i]==3:\n",
    "        print(dataBlind[i].name, 'Nuclear, Confidence', np.round(np.max(probs6[i])*100), '%')\n",
    "    elif preds6[i]==4:\n",
    "        print(dataBlind[i].name, 'Secreted, Confidence', np.round(np.max(probs6[i])*100), '%')\n",
    "        \n"
   ]
  },
  {
   "cell_type": "markdown",
   "metadata": {},
   "source": [
    "## Compare the two predictions"
   ]
  },
  {
   "cell_type": "code",
   "execution_count": 54,
   "metadata": {},
   "outputs": [
    {
     "name": "stdout",
     "output_type": "stream",
     "text": [
      "Compare two predictions:\n",
      "index: 0 prediction: 3.0 with prob 0.40992163854107594\n",
      "index: 1 decide 4 with prob 0.7325213093786598\n",
      "index: 2 decide 1 with prob 0.6139832498093677\n",
      "index: 3 decide 3 with prob 0.467959002165311\n",
      "index: 4 decide 4 with prob 0.7571770235269171\n",
      "index: 5 decide 3 with prob 0.49209353967802344\n",
      "index: 6 prediction: 2.0 with prob 0.3735498648748292\n",
      "index: 7 prediction: 1.0 with prob 0.5530487879571863\n",
      "index: 8 decide 1 with prob 0.3864959313307676\n",
      "index: 9 prediction: 2.0 with prob 0.42234391217675143\n",
      "index: 10 prediction: 2.0 with prob 0.4080705316624149\n",
      "index: 11 decide 3 with prob 0.43579679843593555\n",
      "index: 12 prediction: 4.0 with prob 0.9933370561788926\n",
      "index: 13 prediction: 1.0 with prob 0.38192163954888897\n",
      "index: 14 prediction: 3.0 with prob 0.6291252198339357\n",
      "index: 15 prediction: 3.0 with prob 0.7754747738182249\n",
      "index: 16 decide 3 with prob 0.37201803425098684\n",
      "index: 17 prediction: 3.0 with prob 0.5345855196641319\n",
      "index: 18 prediction: 2.0 with prob 0.3336702908054334\n",
      "index: 19 decide 1 with prob 0.5811521560663324\n"
     ]
    }
   ],
   "source": [
    "## if the two models agree then great, otherwise pick the prediction with max probability\n",
    "print(\"Compare two predictions:\")\n",
    "myPreds=np.zeros((len(dataBlind), 2))\n",
    "\n",
    "for i in range(len(dataBlind)):\n",
    "    if preds[i]==preds6[i]:\n",
    "        ans=preds[i]\n",
    "        ansprob=max(probs[i, int(preds[i]-1)], probs6[i, int(preds6[i]-1)])\n",
    "        print('index:', i, 'prediction:', ans, 'with prob', ansprob)\n",
    "    else:\n",
    "        a=np.max(probs[i])\n",
    "        b=np.max(probs6[i])\n",
    "        if a>b:\n",
    "            ans=np.argmax(probs[i])+1\n",
    "            ansprob=np.max(probs[i])\n",
    "        else:\n",
    "            ans=np.argmax(probs6[i])+1\n",
    "            ansprob=np.max(probs6[i])\n",
    "        print('index:',i, 'decide', ans, 'with prob', ansprob)\n",
    "    myPreds[i]=ans,ansprob"
   ]
  },
  {
   "cell_type": "code",
   "execution_count": 55,
   "metadata": {
    "scrolled": true
   },
   "outputs": [
    {
     "name": "stdout",
     "output_type": "stream",
     "text": [
      "[[3.         0.40992164]\n",
      " [4.         0.73252131]\n",
      " [1.         0.61398325]\n",
      " [3.         0.467959  ]\n",
      " [4.         0.75717702]\n",
      " [3.         0.49209354]\n",
      " [2.         0.37354986]\n",
      " [1.         0.55304879]\n",
      " [1.         0.38649593]\n",
      " [2.         0.42234391]\n",
      " [2.         0.40807053]\n",
      " [3.         0.4357968 ]\n",
      " [4.         0.99333706]\n",
      " [1.         0.38192164]\n",
      " [3.         0.62912522]\n",
      " [3.         0.77547477]\n",
      " [3.         0.37201803]\n",
      " [3.         0.53458552]\n",
      " [2.         0.33367029]\n",
      " [1.         0.58115216]]\n"
     ]
    }
   ],
   "source": [
    "print(myPreds)"
   ]
  },
  {
   "cell_type": "markdown",
   "metadata": {},
   "source": [
    "## Final Predictions"
   ]
  },
  {
   "cell_type": "code",
   "execution_count": 64,
   "metadata": {},
   "outputs": [
    {
     "name": "stdout",
     "output_type": "stream",
     "text": [
      "SEQ677 Nuclear, Confidence 41.0 %\n",
      "SEQ231 Secreted, Confidence 73.3 %\n",
      "SEQ871 Cytosolic, Confidence 61.4 %\n",
      "SEQ388 Nuclear, Confidence 46.8 %\n",
      "SEQ122 Secreted, Confidence 75.7 %\n",
      "SEQ758 Nuclear, Confidence 49.2 %\n",
      "SEQ333 Mitochondrial, Confidence 37.4 %\n",
      "SEQ937 Cytosolic, Confidence 55.3 %\n",
      "SEQ351 Cytosolic, Confidence 38.6 %\n",
      "SEQ202 Mitochondrial, Confidence 42.2 %\n",
      "SEQ608 Mitochondrial, Confidence 40.8 %\n",
      "SEQ402 Nuclear, Confidence 43.6 %\n",
      "SEQ433 Secreted, Confidence 99.3 %\n",
      "SEQ821 Cytosolic, Confidence 38.2 %\n",
      "SEQ322 Nuclear, Confidence 62.9 %\n",
      "SEQ982 Nuclear, Confidence 77.5 %\n",
      "SEQ951 Nuclear, Confidence 37.2 %\n",
      "SEQ173 Nuclear, Confidence 53.5 %\n",
      "SEQ862 Mitochondrial, Confidence 33.4 %\n",
      "SEQ224 Cytosolic, Confidence 58.1 %\n"
     ]
    }
   ],
   "source": [
    "for i in range(len(dataBlind)):\n",
    "    if myPreds[i,0]==1:\n",
    "        print(dataBlind[i].name, 'Cytosolic, Confidence', np.round(myPreds[i,1]*100, 1), '%')\n",
    "    elif myPreds[i,0]==2:\n",
    "        print(dataBlind[i].name, 'Mitochondrial, Confidence', np.round(myPreds[i,1]*100,1), '%')\n",
    "    elif myPreds[i,0]==3:\n",
    "        print(dataBlind[i].name, 'Nuclear, Confidence', np.round(myPreds[i,1]*100,1), '%')\n",
    "    elif myPreds[i,0]==4:\n",
    "        print(dataBlind[i].name, 'Secreted, Confidence', np.round(myPreds[i,1]*100,1), '%')\n",
    "        \n",
    "        \n",
    "\n"
   ]
  },
  {
   "cell_type": "markdown",
   "metadata": {},
   "source": [
    "# Further testing\n",
    "**(only run if you want to test on further data)**"
   ]
  },
  {
   "cell_type": "markdown",
   "metadata": {},
   "source": [
    "### Analyse the data"
   ]
  },
  {
   "cell_type": "code",
   "execution_count": null,
   "metadata": {},
   "outputs": [],
   "source": [
    "furtherData=[]\n",
    "\n",
    "####change the filename to match the file you want to test\n",
    "##For further information see README.md\n",
    "for record in SeqIO.parse(\"filename.txt\", \"fasta\"):\n",
    "    furtherData.append(record)\n",
    "print('furtherData:', len(furtherData))\n",
    "\n",
    "furtherSequences=[]\n",
    "for i in range(len(furtherData)):\n",
    "    analysed_seq=ProteinAnalysis(str(furtherData[i].seq))\n",
    "    furtherSequences.append(analysed_seq)\n",
    "    \n",
    "compFurther=np.zeros((len(furtherData), 20))\n",
    "for i in range(len(furtherData)):\n",
    "    dict=furtherSequences[i].get_amino_acids_percent()\n",
    "    for pos,aa in enumerate(dict.values()):\n",
    "        compFurther[i,pos]=aa"
   ]
  },
  {
   "cell_type": "markdown",
   "metadata": {},
   "source": [
    "### Make predictions on further data"
   ]
  },
  {
   "cell_type": "code",
   "execution_count": null,
   "metadata": {},
   "outputs": [],
   "source": [
    "#model 1\n",
    "predsF=np.zeros(len(furtherData))\n",
    "for i in range(len(furtherData)):\n",
    "    predsF[i]=model.predict([compFurther[i]])\n",
    "    \n",
    "probsF=np.zeros((len(furtherData), 4))\n",
    "for i in range(len(furtherData)):\n",
    "    probsF[i]=model.predict_proba([compFurther[i]])\n",
    "    \n",
    "predProbsF=np.array(np.argmax(probsF, axis=1)+1)\n",
    "\n",
    "#model 6\n",
    "preds6F=np.zeros(len(furtherData))\n",
    "for i in range(len(furtherData)):\n",
    "    preds6F[i]=model6.predict([compFurther[i]])\n",
    "    \n",
    "probs6F=np.zeros((len(furtherData), 4))\n",
    "for i in range(len(furtherData)):\n",
    "    probs6F[i]=model6.predict_proba([compFurther[i]])\n",
    "    \n",
    "predProbs6F=np.array(np.argmax(probs6F, axis=1)+1)\n",
    "\n",
    "\n",
    "print(\"Predictions:\")\n",
    "myPredsF=np.zeros((len(furtherData), 2))\n",
    "\n",
    "for i in range(len(furtherData)):\n",
    "    if predsF[i]==preds6F[i]:\n",
    "        ans=predsF[i]\n",
    "        ansprob=max(probsF[i, int(predsF[i]-1)], probs6F[i, int(preds6F[i]-1)])\n",
    "    else:\n",
    "        a=np.max(probsF[i])\n",
    "        b=np.max(probs6F[i])\n",
    "        if a>b:\n",
    "            ans=np.argmax(probsF[i])+1\n",
    "            ansprob=np.max(probsF[i])\n",
    "        else:\n",
    "            ans=np.argmax(probs6F[i])+1\n",
    "            ansprob=np.max(probs6F[i])\n",
    "    myPredsF[i]=ans,ansprob\n",
    "    \n",
    "for i in range(len(furtherData)):\n",
    "    if myPredsF[i,0]==1:\n",
    "        print(furtherData[i].name, 'Cytosolic, Confidence', np.round(myPredsF[i,1]*100), '%')\n",
    "    elif myPredsF[i,0]==2:\n",
    "        print(furtherData[i].name, 'Mitochondrial, Confidence', np.round(myPredsF[i,1]*100), '%')\n",
    "    elif myPredsF[i,0]==3:\n",
    "        print(furtherData[i].name, 'Nuclear, Confidence', np.round(myPredsF[i,1]*100), '%')\n",
    "    elif myPredsF[i,0]==4:\n",
    "        print(furtherData[i].name, 'Secreted, Confidence', np.round(myPredsF[i,1]*100), '%')\n",
    "        "
   ]
  }
 ],
 "metadata": {
  "kernelspec": {
   "display_name": "Python 3",
   "language": "python",
   "name": "python3"
  },
  "language_info": {
   "codemirror_mode": {
    "name": "ipython",
    "version": 3
   },
   "file_extension": ".py",
   "mimetype": "text/x-python",
   "name": "python",
   "nbconvert_exporter": "python",
   "pygments_lexer": "ipython3",
   "version": "3.7.4"
  }
 },
 "nbformat": 4,
 "nbformat_minor": 2
}
